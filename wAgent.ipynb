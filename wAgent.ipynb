{
 "cells": [
  {
   "cell_type": "code",
   "execution_count": null,
   "metadata": {},
   "outputs": [
    {
     "data": {
      "application/vnd.jupyter.widget-view+json": {
       "model_id": "365d87393690473f977473eb75b51c4f",
       "version_major": 2,
       "version_minor": 0
      },
      "text/plain": [
       "VBox(children=(Textarea(value='', layout=Layout(height='100px', width='100%'), placeholder='Enter your email c…"
      ]
     },
     "metadata": {},
     "output_type": "display_data"
    },
    {
     "data": {
      "application/vnd.jupyter.widget-view+json": {
       "model_id": "ba86490d0c344ff89e4b76aa5e3281c7",
       "version_major": 2,
       "version_minor": 0
      },
      "text/plain": [
       "VBox(children=(Textarea(value='', layout=Layout(height='100px', width='100%'), placeholder='Enter your paper c…"
      ]
     },
     "metadata": {},
     "output_type": "display_data"
    },
    {
     "data": {
      "application/vnd.jupyter.widget-view+json": {
       "model_id": "8bc2f82357af4aa6b9aa29e7e8735857",
       "version_major": 2,
       "version_minor": 0
      },
      "text/plain": [
       "VBox(children=(Textarea(value='', layout=Layout(height='100px', width='100%'), placeholder='Enter your general…"
      ]
     },
     "metadata": {},
     "output_type": "display_data"
    }
   ],
   "source": [
    "import os, sys\n",
    "\n",
    "import ipywidgets as widgets\n",
    "from IPython.display import display, clear_output\n",
    "\n",
    "import AI_agent2024 as ag\n",
    "\n",
    "def create_agent_cell(agent_func, label):\n",
    "    text = widgets.Textarea(\n",
    "        value='',\n",
    "        placeholder=f'Enter your {label} content here...',\n",
    "        description='',\n",
    "        layout=widgets.Layout(width='100%', height='100px')\n",
    "    )\n",
    "    button = widgets.Button(description=f'Generate {label.capitalize()}')\n",
    "    output = widgets.Output()\n",
    "\n",
    "    def on_button_clicked(b):\n",
    "        with output:\n",
    "            clear_output()\n",
    "            print(agent_func(text.value))\n",
    "\n",
    "    button.on_click(on_button_clicked)\n",
    "    display(widgets.VBox([text, button, output]))\n",
    "\n",
    "# For Email\n",
    "create_agent_cell(ag.email, \"email\")\n",
    "\n",
    "# For Paper\n",
    "create_agent_cell(ag.paper, \"paper\")\n",
    "\n",
    "# For Paper\n",
    "create_agent_cell(ag.general4, \"general\")"
   ]
  }
 ],
 "metadata": {
  "kernelspec": {
   "display_name": "Python 3",
   "language": "python",
   "name": "python3"
  },
  "language_info": {
   "codemirror_mode": {
    "name": "ipython",
    "version": 3
   },
   "file_extension": ".py",
   "mimetype": "text/x-python",
   "name": "python",
   "nbconvert_exporter": "python",
   "pygments_lexer": "ipython3",
   "version": "3.9.6"
  }
 },
 "nbformat": 4,
 "nbformat_minor": 2
}
